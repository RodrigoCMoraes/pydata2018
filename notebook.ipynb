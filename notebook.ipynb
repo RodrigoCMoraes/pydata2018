{
 "cells": [
  {
   "cell_type": "markdown",
   "metadata": {
    "_uuid": "4b36b82268062aff9d724d615dcfc3f4725f50f4"
   },
   "source": [
    "# Import Base Packages"
   ]
  },
  {
   "cell_type": "code",
   "execution_count": 1,
   "metadata": {
    "_cell_guid": "b1076dfc-b9ad-4769-8c92-a6c4dae69d19",
    "_uuid": "8f2839f25d086af736a60e9eeb907d3b93b6e0e5"
   },
   "outputs": [],
   "source": [
    "import pandas as pd\n",
    "import numpy as np\n",
    "\n",
    "import warnings\n",
    "warnings.filterwarnings('ignore')"
   ]
  },
  {
   "cell_type": "markdown",
   "metadata": {},
   "source": [
    "# Notebook Constants"
   ]
  },
  {
   "cell_type": "code",
   "execution_count": 2,
   "metadata": {},
   "outputs": [],
   "source": [
    "POLYNOMIAL_ORDER = 2\n",
    "INCLUDE_BIAS = False\n",
    "\n",
    "DATASET_FILENAME = 'adult.csv'\n",
    "\n",
    "TRAIN_TEST_SPLIT = 0.3\n",
    "TREE_DEPTH = np.arange(1, 15)\n",
    "\n",
    "RSKF_SPLITS = 2\n",
    "RSKF_REPEATS = 2\n",
    "\n",
    "RSKF_SPLITS_MODEL = 10\n",
    "RSKF_REPEATS_MODEL = 1\n",
    "\n",
    "PCA_MAX_COMPONENTS = 20"
   ]
  },
  {
   "cell_type": "markdown",
   "metadata": {
    "_uuid": "959a7f6b42a7fd563eb5123f63fc575f55f78c73"
   },
   "source": [
    "# Feature Engineering - preparation"
   ]
  },
  {
   "cell_type": "markdown",
   "metadata": {},
   "source": [
    "## Columns separation"
   ]
  },
  {
   "cell_type": "code",
   "execution_count": 3,
   "metadata": {
    "_uuid": "b11ae4bff72c90d89d040cfc7ce9d89c27df6d2a"
   },
   "outputs": [],
   "source": [
    "class Columns:\n",
    "    \n",
    "    def __init__(self):\n",
    "        self.names = [ 'age', 'workclass', 'fnlwgt', 'education', 'educational-num', \n",
    "                        'marital-status', 'occupation', 'relationship', 'race', \n",
    "                        'gender', 'capital-gain', 'capital-loss', 'hours-per-week', \n",
    "                        'native-country', 'income' ]\n",
    "        self.to_drop = ['fnlwgt', 'education', 'native-country']\n",
    "        self.to_encoding = [ 'workclass', 'marital-status', 'occupation',\n",
    "                               'relationship', 'race', 'gender' ]\n",
    "        self.to_normalize = [ 'age', 'educational-num', 'hours-per-week', \n",
    "                               'capital-gain', 'capital-loss' ]"
   ]
  },
  {
   "cell_type": "markdown",
   "metadata": {},
   "source": [
    "## Function: to remove nan\n",
    "\n",
    "Polynomial features can generate numbers that has no float64 representation, and it causes error during processing data."
   ]
  },
  {
   "cell_type": "code",
   "execution_count": 4,
   "metadata": {},
   "outputs": [],
   "source": [
    "def remove_nan(X, y):\n",
    "    X_, y_ = [], []    \n",
    "    for x, yt in zip(X, y):                \n",
    "        if np.isnan(x).any() or np.isnan(yt).any():\n",
    "            continue\n",
    "        X_.append(x)\n",
    "        y_.append(yt)        \n",
    "    return np.array(X_), np.array(y_)"
   ]
  },
  {
   "cell_type": "markdown",
   "metadata": {},
   "source": [
    "## Function that applies Feature Engineering"
   ]
  },
  {
   "cell_type": "code",
   "execution_count": 5,
   "metadata": {},
   "outputs": [],
   "source": [
    "from sklearn.preprocessing import LabelEncoder\n",
    "from sklearn.preprocessing import StandardScaler\n",
    "from sklearn.preprocessing import PolynomialFeatures\n",
    "\n",
    "def feature_engineering(dataframe, polynomial_order=2, include_bias=False):\n",
    "    le = LabelEncoder()\n",
    "    scaler = StandardScaler()\n",
    "    pl = PolynomialFeatures(polynomial_order, include_bias=include_bias)\n",
    "    columns = Columns()\n",
    "\n",
    "    df = dataframe\n",
    "    df.drop(columns.to_drop, axis=1, inplace=True)\n",
    "    df = pd.get_dummies(df, columns=columns.to_encoding)\n",
    "    df[\"income\"] = le.fit_transform(df['income'])\n",
    "\n",
    "    X_temp = pl.fit_transform(df[columns.to_normalize])\n",
    "    X_temp = scaler.fit_transform(X_temp)\n",
    "    df.drop(columns.to_normalize, axis=1, inplace=True)\n",
    "    X = np.hstack((df.values, X_temp))\n",
    "    y = df['income']\n",
    "    columns_names = pl.get_feature_names(df.columns)\n",
    "    X, y = remove_nan(X, y)\n",
    "    return np.hstack((df.columns.values, columns_names)), X, y"
   ]
  },
  {
   "cell_type": "markdown",
   "metadata": {
    "_uuid": "d61f34441e1b410cc66e3a98bea6aee0e09fddd2"
   },
   "source": [
    "# Data preparation"
   ]
  },
  {
   "cell_type": "markdown",
   "metadata": {},
   "source": [
    "## Load dataset"
   ]
  },
  {
   "cell_type": "code",
   "execution_count": 6,
   "metadata": {
    "_uuid": "d3225d2289059df7d4f2d07db9d6df556f6d9bf2"
   },
   "outputs": [],
   "source": [
    "dataframe = pd.read_csv(DATASET_FILENAME, index_col=False)"
   ]
  },
  {
   "cell_type": "markdown",
   "metadata": {},
   "source": [
    "## Feature Engineering - execution"
   ]
  },
  {
   "cell_type": "code",
   "execution_count": 7,
   "metadata": {},
   "outputs": [],
   "source": [
    "columns_names, X, y = feature_engineering(\n",
    "                            dataframe, \n",
    "                            polynomial_order=POLYNOMIAL_ORDER, \n",
    "                            include_bias=INCLUDE_BIAS\n",
    "                      )"
   ]
  },
  {
   "cell_type": "markdown",
   "metadata": {},
   "source": [
    "## Split dataset"
   ]
  },
  {
   "cell_type": "code",
   "execution_count": 8,
   "metadata": {},
   "outputs": [
    {
     "data": {
      "text/plain": [
       "((34189,), (14653,))"
      ]
     },
     "execution_count": 8,
     "metadata": {},
     "output_type": "execute_result"
    }
   ],
   "source": [
    "from sklearn.model_selection import train_test_split\n",
    "\n",
    "X, X_test, y, y_test = train_test_split(X, y, test_size=TRAIN_TEST_SPLIT, random_state=42)\n",
    "y.shape, y_test.shape"
   ]
  },
  {
   "cell_type": "markdown",
   "metadata": {
    "_uuid": "dbf1e036b05443b6e56317eb6cfc9859174980b2"
   },
   "source": [
    "# PCA: Principal Component Analysis\n"
   ]
  },
  {
   "cell_type": "markdown",
   "metadata": {},
   "source": [
    "## Find the best components number - preparation"
   ]
  },
  {
   "cell_type": "code",
   "execution_count": 9,
   "metadata": {
    "_uuid": "38eb131b67f9ba84a94145b9d7aabad4b84e1003"
   },
   "outputs": [],
   "source": [
    "from sklearn.metrics import make_scorer\n",
    "from sklearn.metrics import fbeta_score, accuracy_score\n",
    "\n",
    "param_distribution = {\n",
    "    'max_depth': TREE_DEPTH,\n",
    "}\n",
    "\n",
    "scoring = {    \n",
    "    'Accuracy': make_scorer(accuracy_score),\n",
    "    'F1_Score': make_scorer(fbeta_score, beta=1, average='micro'),    \n",
    "}\n",
    "\n",
    "def apply_pca(fold, X_train,X_test,y_train,y_test, pca_max_components, rskf_splits, rskf_repeats, debug=True):\n",
    "    results = []\n",
    "    for i in range(1, pca_max_components + 1):\n",
    "        # train\n",
    "        pca = PCA(i)\n",
    "        X_t = pca.fit_transform(X_train)\n",
    "        kf_temp = RepeatedStratifiedKFold(n_splits=rskf_splits, n_repeats=rskf_repeats)\n",
    "        search_cv = RandomizedSearchCV(DecisionTreeClassifier(), param_distribution,\n",
    "                                       scoring=scoring, n_jobs=-1, \n",
    "                                       cv=kf_temp, \n",
    "                                       refit='F1_Score') \n",
    "        search_cv.fit(X_t, y_train)\n",
    "        model = search_cv.best_estimator_        \n",
    "\n",
    "        # test\n",
    "        X_t = pca.transform(X_test)\n",
    "        y_pred = model.predict(X_t)\n",
    "\n",
    "        # model evaluation\n",
    "        f1 = fbeta_score(y_test, y_pred, beta=1)\n",
    "        acc = accuracy_score(y_test, y_pred)\n",
    "\n",
    "        if debug:\n",
    "            print(f\"fold: {fold} - cp:{i} train: {search_cv.best_score_} test: f1={f1}, acc={acc}\")\n",
    "        results.append((fold, i, acc, f1, pca, model))\n",
    "    return results"
   ]
  },
  {
   "cell_type": "markdown",
   "metadata": {},
   "source": [
    "## Find the best components number - execution"
   ]
  },
  {
   "cell_type": "code",
   "execution_count": 10,
   "metadata": {
    "_uuid": "f47a7fd736f47b0f18e9132f078d4d1d765a8aca"
   },
   "outputs": [
    {
     "name": "stdout",
     "output_type": "stream",
     "text": [
      "fold: 0 - cp:1 train: 0.8099333099333099 test: f1=0.5096167751265365, acc=0.8016379058204153\n",
      "fold: 0 - cp:2 train: 0.8226863226863227 test: f1=0.5504457336918069, acc=0.8141561860193038\n",
      "fold: 0 - cp:3 train: 0.8266643266643267 test: f1=0.6509279131422799, acc=0.8382568002339865\n",
      "fold: 0 - cp:4 train: 0.8221305721305722 test: f1=0.6187624750499001, acc=0.832407136589646\n",
      "fold: 0 - cp:5 train: 0.8322510822510822 test: f1=0.6905883774314366, acc=0.850190114068441\n",
      "fold: 0 - cp:6 train: 0.8922428922428922 test: f1=0.7885468136323324, acc=0.9023691137759579\n",
      "fold: 0 - cp:7 train: 0.9170469170469171 test: f1=0.8505032931527277, acc=0.9296285463585844\n",
      "fold: 0 - cp:8 train: 0.9146191646191646 test: f1=0.8459530026109661, acc=0.9275226674466218\n",
      "fold: 0 - cp:9 train: 0.9142681642681643 test: f1=0.8379705400981997, acc=0.9247148288973384\n",
      "fold: 0 - cp:10 train: 0.9135369135369136 test: f1=0.8382887968887216, acc=0.9245978356244516\n",
      "fold: 0 - cp:11 train: 0.9558324558324558 test: f1=0.9183475091130011, acc=0.9606902603100321\n",
      "fold: 0 - cp:12 train: 0.9586112086112086 test: f1=0.9330584525830706, acc=0.9677098566832407\n",
      "fold: 0 - cp:13 train: 0.9812214812214812 test: f1=0.9694989106753813, acc=0.985258847616262\n",
      "fold: 0 - cp:14 train: 0.9796127296127296 test: f1=0.9702086599927632, acc=0.9855513307984791\n",
      "fold: 0 - cp:15 train: 0.9827424827424828 test: f1=0.9683651291958465, acc=0.984673881251828\n",
      "fold: 0 - cp:16 train: 0.9808997308997309 test: f1=0.9702970297029703, acc=0.9856098274349225\n",
      "fold: 0 - cp:17 train: 0.9797004797004797 test: f1=0.9729860690490613, acc=0.9869552500731208\n",
      "fold: 0 - cp:18 train: 0.980928980928981 test: f1=0.969895605729546, acc=0.9854928341620357\n",
      "fold: 0 - cp:19 train: 0.9826839826839827 test: f1=0.9658760890609874, acc=0.98350394852296\n",
      "fold: 0 - cp:20 train: 0.9826254826254827 test: f1=0.9716012084592145, acc=0.9862532904357999\n",
      "fold: 1 - cp:1 train: 0.7952617724480843 test: f1=0.5923295454545454, acc=0.7985257985257985\n",
      "fold: 1 - cp:2 train: 0.815618601930389 test: f1=0.5995700080623488, acc=0.8256698256698257\n",
      "fold: 1 - cp:3 train: 0.8321731500438725 test: f1=0.6939134808853119, acc=0.8576108576108576\n",
      "fold: 1 - cp:4 train: 0.8298040362679145 test: f1=0.6719845298525502, acc=0.8412308412308412\n",
      "fold: 1 - cp:5 train: 0.8213805206200644 test: f1=0.5875035340684196, acc=0.8292968292968294\n",
      "fold: 1 - cp:6 train: 0.8880374378473238 test: f1=0.7840020186727227, acc=0.8998478998478998\n",
      "fold: 1 - cp:7 train: 0.9194208832992103 test: f1=0.8477716574862294, acc=0.9288639288639289\n",
      "fold: 1 - cp:8 train: 0.9176659842059082 test: f1=0.8426740387031917, acc=0.9267579267579268\n",
      "fold: 1 - cp:9 train: 0.9179877157063469 test: f1=0.8408244350633225, acc=0.925002925002925\n",
      "fold: 1 - cp:10 train: 0.9188944135712197 test: f1=0.8397239263803681, acc=0.9266409266409267\n",
      "fold: 1 - cp:11 train: 0.9585551330798479 test: f1=0.9298765432098766, acc=0.9667719667719668\n",
      "fold: 1 - cp:12 train: 0.9656624744077216 test: f1=0.9375381982642709, acc=0.9701064701064701\n",
      "fold: 1 - cp:13 train: 0.9818367943843229 test: f1=0.9708667152221413, acc=0.9859599859599859\n",
      "fold: 1 - cp:14 train: 0.9829482304767476 test: f1=0.9699102159669982, acc=0.9854919854919855\n",
      "fold: 1 - cp:15 train: 0.9807838549283416 test: f1=0.971102476930549, acc=0.9860769860769861\n",
      "fold: 1 - cp:16 train: 0.9807253582918982 test: f1=0.9694981164175477, acc=0.9853164853164853\n",
      "fold: 1 - cp:17 train: 0.9797894121088038 test: f1=0.9685458504718123, acc=0.9847899847899848\n",
      "fold: 1 - cp:18 train: 0.9792336940625914 test: f1=0.9682674772036475, acc=0.9847314847314848\n",
      "fold: 1 - cp:19 train: 0.9810178414741152 test: f1=0.969630973986691, acc=0.9853164853164853\n",
      "fold: 1 - cp:20 train: 0.9809885931558935 test: f1=0.9681173475572796, acc=0.9846144846144846\n",
      "fold: 2 - cp:1 train: 0.812010062010062 test: f1=0.5576790870342363, acc=0.8118163205615677\n",
      "fold: 2 - cp:2 train: 0.8163390663390664 test: f1=0.5223543579707962, acc=0.8143901725650775\n",
      "fold: 2 - cp:3 train: 0.8229495729495729 test: f1=0.6043764263659552, acc=0.827610412401287\n",
      "fold: 2 - cp:4 train: 0.8209313209313209 test: f1=0.6598984771573604, acc=0.8393097396899678\n",
      "fold: 2 - cp:5 train: 0.8251725751725751 test: f1=0.6632474355766825, acc=0.8425270546943551\n",
      "fold: 2 - cp:6 train: 0.8851936351936351 test: f1=0.7811405702851425, acc=0.8976308862240421\n",
      "fold: 2 - cp:7 train: 0.9227506727506728 test: f1=0.8490448245723561, acc=0.929277566539924\n",
      "fold: 2 - cp:8 train: 0.9193869193869194 test: f1=0.8478784040531983, acc=0.9297455396314712\n",
      "fold: 2 - cp:9 train: 0.9198256698256698 test: f1=0.8447488584474885, acc=0.9284001169932729\n",
      "fold: 2 - cp:10 train: 0.9175734175734176 test: f1=0.8403148007108404, acc=0.9264112313541971\n",
      "fold: 2 - cp:11 train: 0.9646074646074646 test: f1=0.9359317904993911, acc=0.9692307692307692\n",
      "fold: 2 - cp:12 train: 0.9675909675909676 test: f1=0.9369104495896116, acc=0.9698742322316467\n",
      "fold: 2 - cp:13 train: 0.9823914823914824 test: f1=0.9689231510479401, acc=0.9849078677976016\n",
      "fold: 2 - cp:14 train: 0.9826254826254827 test: f1=0.9736587723537942, acc=0.9872477332553378\n",
      "fold: 2 - cp:15 train: 0.9844389844389845 test: f1=0.9716294859359845, acc=0.9863117870722433\n",
      "fold: 2 - cp:16 train: 0.9816602316602316 test: f1=0.9727305781117439, acc=0.986838256800234\n",
      "fold: 2 - cp:17 train: 0.9837369837369837 test: f1=0.9752667313288069, acc=0.9880666861655455\n",
      "fold: 2 - cp:18 train: 0.982011232011232 test: f1=0.9763113367174282, acc=0.9885346592570927\n",
      "fold: 2 - cp:19 train: 0.9832689832689833 test: f1=0.9741608307172179, acc=0.9874817198011114\n",
      "fold: 2 - cp:20 train: 0.982976482976483 test: f1=0.9769407219606423, acc=0.9888271424393097\n",
      "fold: 3 - cp:1 train: 0.7964902018133957 test: f1=0.5061941803514837, acc=0.7994617994617995\n",
      "fold: 3 - cp:2 train: 0.8162620649312664 test: f1=0.569810799613313, acc=0.8177723177723177\n",
      "fold: 3 - cp:3 train: 0.8300380228136882 test: f1=0.6656515670600177, acc=0.8458523458523458\n",
      "fold: 3 - cp:4 train: 0.825738520035098 test: f1=0.6505994617078542, acc=0.8329238329238329\n",
      "fold: 3 - cp:5 train: 0.828780345130155 test: f1=0.6562539362640131, acc=0.8403533403533403\n",
      "fold: 3 - cp:6 train: 0.8964024568587307 test: f1=0.7964777378147091, acc=0.904001404001404\n",
      "fold: 3 - cp:7 train: 0.9184264404796724 test: f1=0.8507944389275075, acc=0.9296829296829296\n",
      "fold: 3 - cp:8 train: 0.9166422930681486 test: f1=0.8521065133141643, acc=0.9307944307944308\n",
      "fold: 3 - cp:9 train: 0.9162620649312665 test: f1=0.8313267965744073, acc=0.9204984204984205\n",
      "fold: 3 - cp:10 train: 0.9158818367943843 test: f1=0.8376365441906652, acc=0.9234819234819235\n",
      "fold: 3 - cp:11 train: 0.9526469727990641 test: f1=0.916913214990138, acc=0.9605709605709606\n",
      "fold: 3 - cp:12 train: 0.9591985960807253 test: f1=0.9342057433660488, acc=0.9682344682344682\n",
      "fold: 3 - cp:13 train: 0.9809593448376719 test: f1=0.9678821540690654, acc=0.9844389844389845\n",
      "fold: 3 - cp:14 train: 0.9814273179292191 test: f1=0.9719107896323086, acc=0.9863694863694864\n",
      "fold: 3 - cp:15 train: 0.9809885931558935 test: f1=0.9723099344182657, acc=0.9866619866619867\n",
      "fold: 3 - cp:16 train: 0.9796724188359169 test: f1=0.972816237767307, acc=0.9868374868374868\n",
      "fold: 3 - cp:17 train: 0.9818367943843229 test: f1=0.9701528755156515, acc=0.9856089856089856\n",
      "fold: 3 - cp:18 train: 0.9820707809300965 test: f1=0.9742722551032733, acc=0.9875394875394875\n",
      "fold: 3 - cp:19 train: 0.9811055864287803 test: f1=0.9721414728682172, acc=0.9865449865449866\n",
      "fold: 3 - cp:20 train: 0.9806961099736765 test: f1=0.9720778435875741, acc=0.9864864864864865\n",
      "Best number of components: 20\n"
     ]
    }
   ],
   "source": [
    "from sklearn.tree import DecisionTreeClassifier\n",
    "from sklearn.decomposition import PCA\n",
    "from sklearn.model_selection import RandomizedSearchCV, RepeatedStratifiedKFold\n",
    "\n",
    "def best_components_number(X, y, pca_max_components, rskf_splits, rskf_repeats):\n",
    "    result = []\n",
    "    kf = RepeatedStratifiedKFold(n_splits=rskf_splits, n_repeats=rskf_repeats)\n",
    "    for fold, (train_index, test_index) in enumerate(kf.split(X, y)):\n",
    "        X_tr, X_tst = X[train_index], X[test_index]\n",
    "        y_tr, y_tst = y[train_index], y[test_index]\n",
    "\n",
    "        result_ = apply_pca(fold, X_tr, X_tst, y_tr, y_tst, pca_max_components, rskf_splits, rskf_repeats)\n",
    "        result += result_ # concatenate\n",
    "    \n",
    "    # get from highest f1 score the number of components used\n",
    "    best_f1 = 0\n",
    "    best_model = None\n",
    "    for fold, n, acc, f1, pca, model in result:\n",
    "        if best_f1 < f1:\n",
    "            best_f1 = f1\n",
    "            best_model=(fold, n, acc, f1, pca, model)\n",
    "    pca_components = best_model[1]\n",
    "    return pca_components\n",
    "\n",
    "pca_components = best_components_number(X, y, PCA_MAX_COMPONENTS, RSKF_SPLITS, RSKF_REPEATS)\n",
    "print(f'Best number of components: {pca_components}')"
   ]
  },
  {
   "cell_type": "markdown",
   "metadata": {
    "_uuid": "ef6405dc26571c6c19e3ac86e971343441fa1bd1"
   },
   "source": [
    "# Get best model with best pca_components number"
   ]
  },
  {
   "cell_type": "code",
   "execution_count": 11,
   "metadata": {
    "_uuid": "c502a66f4e44e7f13fc6d1391efbfc58c0d1f542"
   },
   "outputs": [
    {
     "name": "stdout",
     "output_type": "stream",
     "text": [
      "fold: 0 - cp:20 train: 0.989209919074393 test: f1=0.9788263762855415, acc=0.9897660818713451\n",
      "fold: 1 - cp:20 train: 0.9899899249244369 test: f1=0.9836660617059891, acc=0.9921052631578947\n",
      "fold: 2 - cp:20 train: 0.9887227819304517 test: f1=0.9776164549304295, acc=0.9891781222579702\n",
      "fold: 3 - cp:20 train: 0.9899252518687033 test: f1=0.9795180722891567, acc=0.9900555718046212\n",
      "fold: 4 - cp:20 train: 0.9894377640558986 test: f1=0.9737324373854612, acc=0.987423223164668\n",
      "fold: 5 - cp:20 train: 0.9900877478063048 test: f1=0.9818401937046005, acc=0.9912255045334893\n",
      "fold: 6 - cp:20 train: 0.9905427364315892 test: f1=0.9769975786924939, acc=0.9888856390757531\n",
      "fold: 7 - cp:20 train: 0.9894706054401872 test: f1=0.9800604229607252, acc=0.9903452311293154\n",
      "fold: 8 - cp:20 train: 0.9890156316011829 test: f1=0.9756986634264885, acc=0.9882972498537156\n",
      "fold: 9 - cp:20 train: 0.9896330960969745 test: f1=0.9762050030506407, acc=0.9885898186073727\n"
     ]
    }
   ],
   "source": [
    "def get_best_model(pca_components, rskf_splits, rskf_repeats):\n",
    "    result, metrics = [], []\n",
    "    kf = RepeatedStratifiedKFold(n_splits=rskf_splits, n_repeats=rskf_repeats)\n",
    "    for fold, (train_index, test_index) in enumerate(kf.split(X, y)):\n",
    "        X_train, X_test = X[train_index], X[test_index]\n",
    "        y_train, y_test = y[train_index], y[test_index]\n",
    "\n",
    "        # train\n",
    "        pca = PCA(pca_components)\n",
    "        X_t = pca.fit_transform(X_train)\n",
    "        search_cv = RandomizedSearchCV(DecisionTreeClassifier(), param_distribution,\n",
    "                                       scoring=scoring, n_jobs=-1, \n",
    "                                       cv=RepeatedStratifiedKFold(\n",
    "                                           n_splits=rskf_splits, \n",
    "                                           n_repeats=rskf_repeats), \n",
    "                                       refit='F1_Score') \n",
    "        search_cv.fit(X_t, y_train)\n",
    "        model = search_cv.best_estimator_        \n",
    "\n",
    "        # test\n",
    "        X_t = pca.transform(X_test)\n",
    "        y_pred = model.predict(X_t)\n",
    "\n",
    "        # model evaluation\n",
    "        f1 = fbeta_score(y_test, y_pred, beta=1)\n",
    "        acc = accuracy_score(y_test, y_pred)\n",
    "\n",
    "        print(f\"fold: {fold} - cp:{pca_components} train: {search_cv.best_score_} test: f1={f1}, acc={acc}\")\n",
    "\n",
    "        result.append((X_train, y_train, X_test, y_test, fold, acc, f1, pca, model))        \n",
    "        metrics.append((f1, acc))\n",
    "\n",
    "    best_f1 = 0\n",
    "    best_model = None\n",
    "    for X_train, y_train, X_test, y_test, fold, acc, f1, pca, model in result:\n",
    "        if best_f1 < f1:\n",
    "            best_f1 = f1\n",
    "            best_model=(X_train, y_train, X_test, y_test, metrics, fold, acc, f1, pca, model)\n",
    "    return best_model\n",
    "\n",
    "best_model = get_best_model(pca_components,  RSKF_SPLITS_MODEL, RSKF_REPEATS_MODEL)"
   ]
  },
  {
   "cell_type": "markdown",
   "metadata": {
    "_uuid": "1a2c76ade55979c4ddc387093d6fafe01840b18d"
   },
   "source": [
    "# Analyse Model Result"
   ]
  },
  {
   "cell_type": "markdown",
   "metadata": {},
   "source": [
    "## AUC"
   ]
  },
  {
   "cell_type": "code",
   "execution_count": 12,
   "metadata": {
    "_uuid": "43d1d55b9bd731b5cc863d0ed9bd4d474c063068"
   },
   "outputs": [
    {
     "data": {
      "image/png": "[encoded data removed]",
      "text/plain": [
       "<Figure size 432x288 with 1 Axes>"
      ]
     },
     "metadata": {
      "needs_background": "light"
     },
     "output_type": "display_data"
    }
   ],
   "source": [
    "from sklearn import metrics\n",
    "\n",
    "pca, model = best_model[-2], best_model[-1]\n",
    "probs = model.predict_proba(pca.transform(X_test))\n",
    "preds = probs[:,1]\n",
    "fpr, tpr, threshold = metrics.roc_curve(y_test, preds)\n",
    "roc_auc = metrics.auc(fpr, tpr)\n",
    "\n",
    "# method I: plt\n",
    "import matplotlib.pyplot as plt\n",
    "%matplotlib inline\n",
    "\n",
    "plt.title('Receiver Operating Characteristic')\n",
    "plt.plot(fpr, tpr, 'b', label = 'AUC = %0.2f' % roc_auc)\n",
    "plt.legend(loc = 'lower right')\n",
    "plt.plot([0, 1], [0, 1],'r--')\n",
    "plt.xlim([0, 1])\n",
    "plt.ylim([0, 1])\n",
    "plt.ylabel('True Positive Rate')\n",
    "plt.xlabel('False Positive Rate')\n",
    "plt.show()"
   ]
  },
  {
   "cell_type": "markdown",
   "metadata": {},
   "source": [
    "## Score by Fold"
   ]
  },
  {
   "cell_type": "code",
   "execution_count": 13,
   "metadata": {
    "_uuid": "4a9e15ff7bbc044683af39c2f6320d80ad0fe106"
   },
   "outputs": [
    {
     "data": {
      "image/png": "[encoded data removed]",
      "text/plain": [
       "<Figure size 432x288 with 1 Axes>"
      ]
     },
     "metadata": {
      "needs_background": "light"
     },
     "output_type": "display_data"
    }
   ],
   "source": [
    "f1_r, acc_r = [], []\n",
    "for f1, acc in best_model[4]:\n",
    "    f1_r.append(f1)\n",
    "    acc_r.append(acc)\n",
    "\n",
    "f1_r, acc_r = np.array(f1_r), np.array(acc_r)\n",
    "l = f1_r.shape[0]\n",
    "plt.title(f'F1 Score in Folds(PCA components = {pca_components})')\n",
    "plt.plot(range(l), f1_r, 'r', label = 'F1 Score')\n",
    "plt.plot(range(l), acc_r, 'b', label = 'Accuracy')\n",
    "plt.legend(loc = 'lower right')\n",
    "plt.xticks(range(l))\n",
    "plt.xlim([0, l - 1])\n",
    "plt.ylim([0.60, 1])\n",
    "plt.ylabel('F1 Score')\n",
    "plt.xlabel('Fold')\n",
    "plt.grid()\n",
    "plt.show()"
   ]
  },
  {
   "cell_type": "markdown",
   "metadata": {
    "_uuid": "84ef8ca79b28a3631c3ebfbd963fdaa41611f495"
   },
   "source": [
    "## Plot feature importances"
   ]
  },
  {
   "cell_type": "code",
   "execution_count": 14,
   "metadata": {
    "_uuid": "0f2780a18ccf9b5d494491f85924f084eaf40002"
   },
   "outputs": [
    {
     "data": {
      "image/png": "[encoded data removed]",
      "text/plain": [
       "<Figure size 576x576 with 1 Axes>"
      ]
     },
     "metadata": {
      "needs_background": "light"
     },
     "output_type": "display_data"
    }
   ],
   "source": [
    "def plot_feature_importances(clf, X_train, y_train=None, \n",
    "                             top_n=10, figsize=(8,8), print_table=False, title=\"Feature Importances\"):\n",
    "#     https://www.kaggle.com/grfiv4/plotting-feature-importances\n",
    "    __name__ = \"plot_feature_importances\"\n",
    "    \n",
    "    import pandas as pd\n",
    "    import numpy  as np\n",
    "    import matplotlib.pyplot as plt\n",
    "    \n",
    "    X_train = pd.DataFrame(data=X_train, columns=[f\"PC{i}\" for i in range(1, X_train.shape[1] + 1)])\n",
    "    \n",
    "    feat_imp = pd.DataFrame({'importance':clf.feature_importances_})    \n",
    "    feat_imp['feature'] = X_train.columns\n",
    "    feat_imp.sort_values(by='importance', ascending=False, inplace=True)\n",
    "    feat_imp = feat_imp.iloc[:top_n]\n",
    "    \n",
    "    feat_imp.sort_values(by='importance', inplace=True)\n",
    "    feat_imp = feat_imp.set_index('feature', drop=True)\n",
    "    feat_imp.plot.barh(title=title, figsize=figsize)\n",
    "    plt.xlabel('Feature Importance Score')\n",
    "    plt.show()\n",
    "    \n",
    "    if print_table:\n",
    "        from IPython.display import display\n",
    "        print(\"Top {} features in descending order of importance\".format(top_n))\n",
    "        display(feat_imp.sort_values(by='importance', ascending=False))\n",
    "        \n",
    "    return feat_imp\n",
    "\n",
    "pca, clf = best_model[-2], best_model[-1]\n",
    "feature_importance = plot_feature_importances(clf, pca.transform(X), top_n=X.shape[1], title=clf.__class__.__name__)"
   ]
  },
  {
   "cell_type": "markdown",
   "metadata": {
    "_uuid": "4d45da269ae5cc08ae411f0babe1b59bb26c808b"
   },
   "source": [
    "## Get Features Used to Generate PCA Components"
   ]
  },
  {
   "cell_type": "code",
   "execution_count": 15,
   "metadata": {
    "_uuid": "47c86e3fa7517d67fb61d2f1d0fecea1699aef8c",
    "scrolled": false
   },
   "outputs": [
    {
     "name": "stdout",
     "output_type": "stream",
     "text": [
      "PC18\n",
      "Features:\n",
      "\tworkclass_Local-gov workclass_Never-worked\n",
      "\tworkclass_Never-worked\n",
      "\toccupation_Armed-Forces\n",
      "\toccupation_Tech-support\n",
      "\n",
      "PC9\n",
      "Features:\n",
      "\tworkclass_Local-gov workclass_Never-worked\n",
      "\tworkclass_Never-worked\n",
      "\toccupation_Armed-Forces\n",
      "\tworkclass_Without-pay\n",
      "\n",
      "PC14\n",
      "Features:\n",
      "\tworkclass_Local-gov workclass_Never-worked\n",
      "\tmarital-status_Married-AF-spouse\n",
      "\tincome\n",
      "\toccupation_Armed-Forces\n",
      "\n",
      "PC8\n",
      "Features:\n",
      "\tworkclass_Local-gov workclass_Never-worked\n",
      "\tworkclass_Never-worked\n",
      "\tmarital-status_Married-AF-spouse\n",
      "\tincome workclass_Never-worked\n",
      "\n",
      "PC16\n",
      "Features:\n",
      "\tworkclass_Local-gov workclass_Never-worked\n",
      "\tworkclass_Never-worked\n",
      "\toccupation_Armed-Forces\n",
      "\tworkclass_Without-pay\n",
      "\n",
      "PC10\n",
      "Features:\n",
      "\tworkclass_Local-gov workclass_Never-worked\n",
      "\tworkclass_Never-worked\n",
      "\toccupation_Armed-Forces\n",
      "\tmarital-status_Married-AF-spouse\n",
      "\n",
      "PC2\n",
      "Features:\n",
      "\tworkclass_Local-gov workclass_Never-worked\n",
      "\toccupation_Priv-house-serv\n",
      "\tworkclass_Never-worked\n",
      "\tworkclass_Without-pay\n",
      "\n",
      "PC17\n",
      "Features:\n",
      "\tworkclass_Local-gov workclass_Never-worked\n",
      "\tmarital-status_Married-AF-spouse\n",
      "\trace_Amer-Indian-Eskimo\n",
      "\toccupation_Armed-Forces\n",
      "\n",
      "PC4\n",
      "Features:\n",
      "\tworkclass_Local-gov workclass_Never-worked\n",
      "\tworkclass_Never-worked\n",
      "\toccupation_Armed-Forces\n",
      "\tworkclass_Self-emp-inc\n",
      "\n",
      "PC20\n",
      "Features:\n",
      "\tworkclass_Local-gov workclass_Never-worked\n",
      "\tworkclass_Without-pay\n",
      "\tworkclass_Self-emp-not-inc\n",
      "\toccupation_Protective-serv\n",
      "\n",
      "PC5\n",
      "Features:\n",
      "\tworkclass_Local-gov workclass_Never-worked\n",
      "\tworkclass_Without-pay\n",
      "\tworkclass_Never-worked\n",
      "\toccupation_Armed-Forces\n",
      "\n",
      "PC3\n",
      "Features:\n",
      "\tworkclass_Local-gov workclass_Never-worked\n",
      "\toccupation_Armed-Forces\n",
      "\trace_Asian-Pac-Islander\n",
      "\tworkclass_Without-pay\n",
      "\n",
      "PC19\n",
      "Features:\n",
      "\tworkclass_Local-gov workclass_Never-worked\n",
      "\tworkclass_Never-worked\n",
      "\toccupation_Armed-Forces\n",
      "\tworkclass_Without-pay\n",
      "\n",
      "PC7\n",
      "Features:\n",
      "\tworkclass_Local-gov workclass_Never-worked\n",
      "\tworkclass_Never-worked\n",
      "\tworkclass_Without-pay\n",
      "\toccupation_Armed-Forces\n",
      "\n",
      "PC15\n",
      "Features:\n",
      "\tworkclass_Local-gov workclass_Never-worked\n",
      "\tmarital-status_Married-AF-spouse\n",
      "\tworkclass_Never-worked\n",
      "\tworkclass_Without-pay\n",
      "\n",
      "PC6\n",
      "Features:\n",
      "\tworkclass_Local-gov workclass_Never-worked\n",
      "\tworkclass_Never-worked\n",
      "\tworkclass_Without-pay\n",
      "\tmarital-status_Married-AF-spouse\n",
      "\n",
      "PC12\n",
      "Features:\n",
      "\tworkclass_Local-gov workclass_Never-worked\n",
      "\tworkclass_Without-pay\n",
      "\tmarital-status_Separated\n",
      "\tworkclass_? workclass_Federal-gov\n",
      "\n",
      "PC13\n",
      "Features:\n",
      "\tworkclass_Local-gov workclass_Never-worked\n",
      "\tworkclass_Never-worked\n",
      "\toccupation_Priv-house-serv\n",
      "\toccupation_Armed-Forces\n",
      "\n",
      "PC11\n",
      "Features:\n",
      "\tworkclass_Local-gov workclass_Never-worked\n",
      "\tworkclass_Never-worked\n",
      "\tworkclass_Federal-gov workclass_Never-worked\n",
      "\toccupation_Armed-Forces\n",
      "\n",
      "PC1\n",
      "Features:\n",
      "\tworkclass_Local-gov workclass_Never-worked\n",
      "\toccupation_Tech-support\n",
      "\toccupation_Armed-Forces\n",
      "\tmarital-status_Married-AF-spouse\n",
      "\n"
     ]
    }
   ],
   "source": [
    "# https://stackoverflow.com/questions/22348668/pca-decomposition-with-python-features-relevances\n",
    "pca, clf = best_model[-2], best_model[-1]\n",
    "index_components = [int(x[2:]) for x in feature_importance.index.values]\n",
    "def features_used_to_generate_pca_components(index_components, pca, clf, columns_names):    \n",
    "    for i in index_components:\n",
    "        index_features = np.abs(pca.components_[i - 1]).argsort()[:4]\n",
    "        features = columns_names[index_features]\n",
    "        print(f'PC{i}')\n",
    "        print(f'Features:')\n",
    "        for f in features:\n",
    "            print(\"\\t\" + f)\n",
    "        print()\n",
    "        \n",
    "features_used_to_generate_pca_components(index_components, pca, clf, columns_names)"
   ]
  },
  {
   "cell_type": "markdown",
   "metadata": {
    "_uuid": "d83aa9db019f6ebc52301363a9e71d0aa96fb820"
   },
   "source": [
    "## Confusion Matrix"
   ]
  },
  {
   "cell_type": "code",
   "execution_count": 16,
   "metadata": {
    "_uuid": "932a033a6647e655e3945dd42aa6c8f86f780b61"
   },
   "outputs": [
    {
     "data": {
      "text/plain": [
       "array([[11183,    50],\n",
       "       [   68,  3352]])"
      ]
     },
     "execution_count": 16,
     "metadata": {},
     "output_type": "execute_result"
    }
   ],
   "source": [
    "from sklearn.metrics import confusion_matrix\n",
    "\n",
    "pca, clf = best_model[-2], best_model[-1]\n",
    "\n",
    "y_pred = clf.predict(pca.transform(X_test))\n",
    "\n",
    "cm = confusion_matrix(y_test, y_pred)\n",
    "cm"
   ]
  },
  {
   "cell_type": "code",
   "execution_count": 17,
   "metadata": {
    "_uuid": "d517b07b21c91f1483c2848dbd290e5ea52e897f"
   },
   "outputs": [
    {
     "name": "stdout",
     "output_type": "stream",
     "text": [
      "Normalized confusion matrix\n",
      "[[0.99554883 0.00445117]\n",
      " [0.01988304 0.98011696]]\n"
     ]
    },
    {
     "data": {
      "image/png": "[encoded data removed]",
      "text/plain": [
       "<Figure size 432x288 with 2 Axes>"
      ]
     },
     "metadata": {
      "needs_background": "light"
     },
     "output_type": "display_data"
    }
   ],
   "source": [
    "import itertools\n",
    "\n",
    "def plot_confusion_matrix(cm, classes,\n",
    "                          normalize=False,\n",
    "                          title='Confusion matrix',\n",
    "                          cmap=plt.cm.Blues):\n",
    "    \"\"\"\n",
    "    This function prints and plots the confusion matrix.\n",
    "    Normalization can be applied by setting `normalize=True`.\n",
    "    \"\"\"\n",
    "    if normalize:\n",
    "        cm = cm.astype('float') / cm.sum(axis=1)[:, np.newaxis]\n",
    "        print(\"Normalized confusion matrix\")\n",
    "    else:\n",
    "        print('Confusion matrix, without normalization')\n",
    "\n",
    "    print(cm)\n",
    "\n",
    "    plt.imshow(cm, interpolation='nearest', cmap=cmap)\n",
    "    plt.title(title)\n",
    "    plt.colorbar()\n",
    "    tick_marks = np.arange(len(classes))\n",
    "    plt.xticks(tick_marks, classes, rotation=45)\n",
    "    plt.yticks(tick_marks, classes)\n",
    "\n",
    "    fmt = '.2f' if normalize else 'd'\n",
    "    thresh = cm.max() / 2.\n",
    "    for i, j in itertools.product(range(cm.shape[0]), range(cm.shape[1])):\n",
    "        plt.text(j, i, format(cm[i, j], fmt),\n",
    "                 horizontalalignment=\"center\",\n",
    "                 color=\"white\" if cm[i, j] > thresh else \"black\")\n",
    "\n",
    "    plt.ylabel('True label')\n",
    "    plt.xlabel('Predicted label')\n",
    "    plt.tight_layout()\n",
    "    \n",
    "plot_confusion_matrix(cm, [0, 1], True)"
   ]
  },
  {
   "cell_type": "markdown",
   "metadata": {
    "_uuid": "bb906c8d2e4c136aeaa18e0acc122432320c529e"
   },
   "source": [
    "## Classification Report"
   ]
  },
  {
   "cell_type": "code",
   "execution_count": 18,
   "metadata": {
    "_uuid": "e82a1d26eb772c17515ff8d90573240bc4f507af"
   },
   "outputs": [
    {
     "name": "stdout",
     "output_type": "stream",
     "text": [
      "              precision    recall  f1-score   support\n",
      "\n",
      "           0       0.99      1.00      0.99     11233\n",
      "           1       0.99      0.98      0.98      3420\n",
      "\n",
      "   micro avg       0.99      0.99      0.99     14653\n",
      "   macro avg       0.99      0.99      0.99     14653\n",
      "weighted avg       0.99      0.99      0.99     14653\n",
      "\n"
     ]
    }
   ],
   "source": [
    "from sklearn.metrics import classification_report\n",
    "\n",
    "print(classification_report(y_test, y_pred))"
   ]
  },
  {
   "cell_type": "markdown",
   "metadata": {
    "_uuid": "628888d7084883298524538267dea8f2e08ca241"
   },
   "source": [
    "# Save Best Model"
   ]
  },
  {
   "cell_type": "code",
   "execution_count": 19,
   "metadata": {
    "_uuid": "259e6a49fca2d23aa119e554a9e66c07cb6bd282"
   },
   "outputs": [
    {
     "data": {
      "text/plain": [
       "['lgr.joblib']"
      ]
     },
     "execution_count": 19,
     "metadata": {},
     "output_type": "execute_result"
    }
   ],
   "source": [
    "from sklearn.externals import joblib\n",
    "\n",
    "joblib.dump(best_model, 'lgr.joblib')"
   ]
  }
 ],
 "metadata": {
  "kernelspec": {
   "display_name": "Python 3",
   "language": "python",
   "name": "python3"
  },
  "language_info": {
   "codemirror_mode": {
    "name": "ipython",
    "version": 3
   },
   "file_extension": ".py",
   "mimetype": "text/x-python",
   "name": "python",
   "nbconvert_exporter": "python",
   "pygments_lexer": "ipython3",
   "version": "3.7.3"
  },
  "toc": {
   "base_numbering": 1,
   "nav_menu": {},
   "number_sections": true,
   "sideBar": true,
   "skip_h1_title": false,
   "title_cell": "Table of Contents",
   "title_sidebar": "Contents",
   "toc_cell": false,
   "toc_position": {
    "height": "calc(100% - 180px)",
    "left": "10px",
    "top": "150px",
    "width": "373px"
   },
   "toc_section_display": true,
   "toc_window_display": true
  }
 },
 "nbformat": 4,
 "nbformat_minor": 1
}
